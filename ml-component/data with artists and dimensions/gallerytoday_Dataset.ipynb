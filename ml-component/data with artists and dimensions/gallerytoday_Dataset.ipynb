{
  "nbformat": 4,
  "nbformat_minor": 0,
  "metadata": {
    "colab": {
      "name": "gallerytoday Dataset.ipynb",
      "provenance": [],
      "collapsed_sections": []
    },
    "kernelspec": {
      "name": "python3",
      "display_name": "Python 3"
    },
    "language_info": {
      "name": "python"
    }
  },
  "cells": [
    {
      "cell_type": "code",
      "metadata": {
        "id": "wYyX6hl0gbeC"
      },
      "source": [
        "import requests, re, time\n",
        "from bs4 import BeautifulSoup\n",
        "# for outputting to csv files\n",
        "import pandas as pd"
      ],
      "execution_count": 72,
      "outputs": []
    },
    {
      "cell_type": "code",
      "metadata": {
        "colab": {
          "base_uri": "https://localhost:8080/"
        },
        "id": "tSIWOGc7goeg",
        "outputId": "0545b702-1d2d-4ffc-a177-ba5cad338623"
      },
      "source": [
        "result = requests.get('https://www.gallerytoday.com/792_larissa-uvarova')\n",
        "result.status_code"
      ],
      "execution_count": 402,
      "outputs": [
        {
          "output_type": "execute_result",
          "data": {
            "text/plain": [
              "200"
            ]
          },
          "metadata": {
            "tags": []
          },
          "execution_count": 402
        }
      ]
    },
    {
      "cell_type": "code",
      "metadata": {
        "id": "3JSmTUUKgvXD",
        "colab": {
          "base_uri": "https://localhost:8080/"
        },
        "outputId": "c4e4344b-00b3-44ac-b7ab-2dabb82f9447"
      },
      "source": [
        "src = result.content\n",
        "soup = BeautifulSoup(src, 'lxml')\n",
        "links = soup.find_all(\"img\")\n",
        "print(len(links))"
      ],
      "execution_count": 403,
      "outputs": [
        {
          "output_type": "stream",
          "text": [
            "103\n"
          ],
          "name": "stdout"
        }
      ]
    },
    {
      "cell_type": "code",
      "metadata": {
        "colab": {
          "base_uri": "https://localhost:8080/"
        },
        "id": "08aOQWMoouMl",
        "outputId": "b8d76031-5e14-4ab7-f2ad-226241edeb1b"
      },
      "source": [
        "index = 0\n",
        "img = []\n",
        "\n",
        "for i in links:\n",
        "  index += 1\n",
        "  # each painting is repeated 2 times and the first 2 & last one are not paintings\n",
        "  if index > 1 and index %2 == 1 and index != 103:\n",
        "    img.append(i['src'])\n",
        "print(index)\n",
        "print(len(img))\n",
        "img"
      ],
      "execution_count": 405,
      "outputs": [
        {
          "output_type": "stream",
          "text": [
            "103\n",
            "50\n"
          ],
          "name": "stdout"
        },
        {
          "output_type": "execute_result",
          "data": {
            "text/plain": [
              "['https://www.gallerytoday.com/59860-medium_default/tender-deep-vibes-blue-seascape-painting.jpg',\n",
              " 'https://www.gallerytoday.com/59424-medium_default/tender-deep-vibes.jpg',\n",
              " 'https://www.gallerytoday.com/55725-medium_default/deep-inside.jpg',\n",
              " 'https://www.gallerytoday.com/57331-medium_default/deep-inside.jpg',\n",
              " 'https://www.gallerytoday.com/55723-medium_default/deep-inside.jpg',\n",
              " 'https://www.gallerytoday.com/55722-medium_default/deep-inside.jpg',\n",
              " 'https://www.gallerytoday.com/57330-medium_default/deep-inside.jpg',\n",
              " 'https://www.gallerytoday.com/55720-medium_default/from-the-deep.jpg',\n",
              " 'https://www.gallerytoday.com/55719-medium_default/from-the-deep.jpg',\n",
              " 'https://www.gallerytoday.com/55718-medium_default/from-the-deep.jpg',\n",
              " 'https://www.gallerytoday.com/55717-medium_default/at-the-edge-of-the-water.jpg',\n",
              " 'https://www.gallerytoday.com/55716-medium_default/from-the-deep.jpg',\n",
              " 'https://www.gallerytoday.com/55715-medium_default/from-the-deep.jpg',\n",
              " 'https://www.gallerytoday.com/55714-medium_default/from-the-deep.jpg',\n",
              " 'https://www.gallerytoday.com/55701-medium_default/from-the-deep.jpg',\n",
              " 'https://www.gallerytoday.com/55700-medium_default/deep-nature.jpg',\n",
              " 'https://www.gallerytoday.com/55699-medium_default/purple-deep.jpg',\n",
              " 'https://www.gallerytoday.com/55698-medium_default/pure-silence.jpg',\n",
              " 'https://www.gallerytoday.com/55697-medium_default/pure-memories.jpg',\n",
              " 'https://www.gallerytoday.com/55696-medium_default/so-tender-are-my-memories.jpg',\n",
              " 'https://www.gallerytoday.com/55695-medium_default/deep-inside.jpg',\n",
              " 'https://www.gallerytoday.com/55694-medium_default/tenderness.jpg',\n",
              " 'https://www.gallerytoday.com/55693-medium_default/purple-silence.jpg',\n",
              " 'https://www.gallerytoday.com/55692-medium_default/tenderness.jpg',\n",
              " 'https://www.gallerytoday.com/55691-medium_default/tender-sea.jpg',\n",
              " 'https://www.gallerytoday.com/55690-medium_default/mix-my-desires.jpg',\n",
              " 'https://www.gallerytoday.com/55689-medium_default/mix-my-desires.jpg',\n",
              " 'https://www.gallerytoday.com/55688-medium_default/mix-my-desires.jpg',\n",
              " 'https://www.gallerytoday.com/55687-medium_default/mix-my-desires.jpg',\n",
              " 'https://www.gallerytoday.com/55674-medium_default/mix-my-desires.jpg',\n",
              " 'https://www.gallerytoday.com/55673-medium_default/mix-my-desires.jpg',\n",
              " 'https://www.gallerytoday.com/55672-medium_default/pure-emotions.jpg',\n",
              " 'https://www.gallerytoday.com/57329-medium_default/my-sunshine.jpg',\n",
              " 'https://www.gallerytoday.com/55670-medium_default/love-code.jpg',\n",
              " 'https://www.gallerytoday.com/55669-medium_default/plunging-into-our-dreams.jpg',\n",
              " 'https://www.gallerytoday.com/55668-medium_default/our-golden-time.jpg',\n",
              " 'https://www.gallerytoday.com/55667-medium_default/i-feel-you-spring.jpg',\n",
              " 'https://www.gallerytoday.com/55666-medium_default/golden-memories.jpg',\n",
              " 'https://www.gallerytoday.com/55665-medium_default/the-birth-of-a-dream.jpg',\n",
              " 'https://www.gallerytoday.com/55664-medium_default/you-my-sunshine.jpg',\n",
              " 'https://www.gallerytoday.com/55663-medium_default/to-share-one-desire.jpg',\n",
              " 'https://www.gallerytoday.com/55662-medium_default/infinite-memories.jpg',\n",
              " 'https://www.gallerytoday.com/55661-medium_default/pure-reminder.jpg',\n",
              " 'https://www.gallerytoday.com/55660-medium_default/to-share-the-top-with-you.jpg',\n",
              " 'https://www.gallerytoday.com/57328-medium_default/the-universe-for-two-of-us.jpg',\n",
              " 'https://www.gallerytoday.com/55658-medium_default/focus-on-me.jpg',\n",
              " 'https://www.gallerytoday.com/55657-medium_default/you-are-my-gold.jpg',\n",
              " 'https://www.gallerytoday.com/57327-medium_default/love-max-point.jpg',\n",
              " 'https://www.gallerytoday.com/55655-medium_default/we-are-eternity.jpg',\n",
              " 'https://www.gallerytoday.com/55654-medium_default/your-thoughts-move-through-my-body.jpg']"
            ]
          },
          "metadata": {
            "tags": []
          },
          "execution_count": 405
        }
      ]
    },
    {
      "cell_type": "code",
      "metadata": {
        "id": "rDCHbE8oBkIt",
        "colab": {
          "base_uri": "https://localhost:8080/"
        },
        "outputId": "026c1820-85cd-4aa6-b8b3-d933d3330936"
      },
      "source": [
        "p = soup.find_all(class_='price product-price')\n",
        "print(len(p))\n",
        "p"
      ],
      "execution_count": 406,
      "outputs": [
        {
          "output_type": "stream",
          "text": [
            "50\n"
          ],
          "name": "stdout"
        },
        {
          "output_type": "execute_result",
          "data": {
            "text/plain": [
              "[<span class=\"price product-price\">$650</span>,\n",
              " <span class=\"price product-price\">$3,875</span>,\n",
              " <span class=\"price product-price\">$10,400</span>,\n",
              " <span class=\"price product-price\">$10,400</span>,\n",
              " <span class=\"price product-price\">$9,400</span>,\n",
              " <span class=\"price product-price\">$9,400</span>,\n",
              " <span class=\"price product-price\">$9,400</span>,\n",
              " <span class=\"price product-price\">$7,690</span>,\n",
              " <span class=\"price product-price\">$3,770</span>,\n",
              " <span class=\"price product-price\">$3,870</span>,\n",
              " <span class=\"price product-price\">$4,320</span>,\n",
              " <span class=\"price product-price\">$2,000</span>,\n",
              " <span class=\"price product-price\">$3,870</span>,\n",
              " <span class=\"price product-price\">$3,870</span>,\n",
              " <span class=\"price product-price\">$3,870</span>,\n",
              " <span class=\"price product-price\">$1,510</span>,\n",
              " <span class=\"price product-price\">$1,510</span>,\n",
              " <span class=\"price product-price\">$430</span>,\n",
              " <span class=\"price product-price\">$3,770</span>,\n",
              " <span class=\"price product-price\">$3,770</span>,\n",
              " <span class=\"price product-price\">$3,770</span>,\n",
              " <span class=\"price product-price\">$3,770</span>,\n",
              " <span class=\"price product-price\">$3,770</span>,\n",
              " <span class=\"price product-price\">$4,990</span>,\n",
              " <span class=\"price product-price\">$3,870</span>,\n",
              " <span class=\"price product-price\">$2,000</span>,\n",
              " <span class=\"price product-price\">$2,000</span>,\n",
              " <span class=\"price product-price\">$2,000</span>,\n",
              " <span class=\"price product-price\">$2,000</span>,\n",
              " <span class=\"price product-price\">$4,370</span>,\n",
              " <span class=\"price product-price\">$4,350</span>,\n",
              " <span class=\"price product-price\">$580</span>,\n",
              " <span class=\"price product-price\">$3,970</span>,\n",
              " <span class=\"price product-price\">$2,750</span>,\n",
              " <span class=\"price product-price\">$4,270</span>,\n",
              " <span class=\"price product-price\">$2,000</span>,\n",
              " <span class=\"price product-price\">$2,010</span>,\n",
              " <span class=\"price product-price\">$1,510</span>,\n",
              " <span class=\"price product-price\">$2,000</span>,\n",
              " <span class=\"price product-price\">$2,010</span>,\n",
              " <span class=\"price product-price\">$2,000</span>,\n",
              " <span class=\"price product-price\">$1,510</span>,\n",
              " <span class=\"price product-price\">$2,000</span>,\n",
              " <span class=\"price product-price\">$2,000</span>,\n",
              " <span class=\"price product-price\">$4,150</span>,\n",
              " <span class=\"price product-price\">$2,750</span>,\n",
              " <span class=\"price product-price\">$4,740</span>,\n",
              " <span class=\"price product-price\">$4,190</span>,\n",
              " <span class=\"price product-price\">$4,190</span>,\n",
              " <span class=\"price product-price\">$2,000</span>]"
            ]
          },
          "metadata": {
            "tags": []
          },
          "execution_count": 406
        }
      ]
    },
    {
      "cell_type": "code",
      "metadata": {
        "colab": {
          "base_uri": "https://localhost:8080/"
        },
        "id": "LMnhUb-sHZep",
        "outputId": "c0107c40-bdbb-45a7-f97a-1b69400715e2"
      },
      "source": [
        "price = []\n",
        "index = 0\n",
        "\n",
        "for i in p:\n",
        "  index+=1\n",
        "  num = re.findall(\"[0-9]+.[0-9]+\", str(i))\n",
        "  if str(num) != \"\" and len(num) == 1:\n",
        "    price.append(num[0])\n",
        "print(len(price))\n",
        "price"
      ],
      "execution_count": 407,
      "outputs": [
        {
          "output_type": "stream",
          "text": [
            "50\n"
          ],
          "name": "stdout"
        },
        {
          "output_type": "execute_result",
          "data": {
            "text/plain": [
              "['650',\n",
              " '3,875',\n",
              " '10,400',\n",
              " '10,400',\n",
              " '9,400',\n",
              " '9,400',\n",
              " '9,400',\n",
              " '7,690',\n",
              " '3,770',\n",
              " '3,870',\n",
              " '4,320',\n",
              " '2,000',\n",
              " '3,870',\n",
              " '3,870',\n",
              " '3,870',\n",
              " '1,510',\n",
              " '1,510',\n",
              " '430',\n",
              " '3,770',\n",
              " '3,770',\n",
              " '3,770',\n",
              " '3,770',\n",
              " '3,770',\n",
              " '4,990',\n",
              " '3,870',\n",
              " '2,000',\n",
              " '2,000',\n",
              " '2,000',\n",
              " '2,000',\n",
              " '4,370',\n",
              " '4,350',\n",
              " '580',\n",
              " '3,970',\n",
              " '2,750',\n",
              " '4,270',\n",
              " '2,000',\n",
              " '2,010',\n",
              " '1,510',\n",
              " '2,000',\n",
              " '2,010',\n",
              " '2,000',\n",
              " '1,510',\n",
              " '2,000',\n",
              " '2,000',\n",
              " '4,150',\n",
              " '2,750',\n",
              " '4,740',\n",
              " '4,190',\n",
              " '4,190',\n",
              " '2,000']"
            ]
          },
          "metadata": {
            "tags": []
          },
          "execution_count": 407
        }
      ]
    },
    {
      "cell_type": "code",
      "metadata": {
        "colab": {
          "base_uri": "https://localhost:8080/"
        },
        "id": "hkP4kzoeeXSt",
        "outputId": "210f8028-f369-415c-8657-b3cace2c4193"
      },
      "source": [
        "for script in soup([\"script\", \"style\"]):\n",
        "    script.extract()\n",
        "text = soup.get_text()\n",
        "\n",
        "#Size (WxH): ... x ... inch\n",
        "d = re.findall(\"Size .+\",text)\n",
        "print(len(d))\n",
        "d"
      ],
      "execution_count": 408,
      "outputs": [
        {
          "output_type": "stream",
          "text": [
            "50\n"
          ],
          "name": "stdout"
        },
        {
          "output_type": "execute_result",
          "data": {
            "text/plain": [
              "['Size (WxH): 28\" x 20\" inch',\n",
              " 'Size (WxH): 35\" x 35\" inch',\n",
              " 'Size (WxH): 59\" x 79\" inch',\n",
              " 'Size (WxH): 79\" x 59\" inch',\n",
              " 'Size (WxH): 59\" x 67\" inch',\n",
              " 'Size (WxH): 59\" x 67\" inch',\n",
              " 'Size (WxH): 59\" x 67\" inch',\n",
              " 'Size (WxH): 55\" x 63\" inch',\n",
              " 'Size (WxH): 31\" x 39\" inch',\n",
              " 'Size (WxH): 39\" x 39\" inch',\n",
              " 'Size (WxH): 43\" x 31\" inch',\n",
              " 'Size (WxH): 28\" x 35\" inch',\n",
              " 'Size (WxH): 24\" x 35\" inch',\n",
              " 'Size (WxH): 39\" x 39\" inch',\n",
              " 'Size (WxH): 39\" x 39\" inch',\n",
              " 'Size (WxH): 28\" x 28\" inch',\n",
              " 'Size (WxH): 28\" x 28\" inch',\n",
              " 'Size (WxH): 20\" x 12\" inch',\n",
              " 'Size (WxH): 31\" x 31\" inch',\n",
              " 'Size (WxH): 31\" x 31\" inch',\n",
              " 'Size (WxH): 31\" x 31\" inch',\n",
              " 'Size (WxH): 31\" x 31\" inch',\n",
              " 'Size (WxH): 35\" x 35\" inch',\n",
              " 'Size (WxH): 47\" x 55\" inch',\n",
              " 'Size (WxH): 39\" x 47\" inch',\n",
              " 'Size (WxH): 35\" x 35\" inch',\n",
              " 'Size (WxH): 35\" x 35\" inch',\n",
              " 'Size (WxH): 35\" x 35\" inch',\n",
              " 'Size (WxH): 35\" x 35\" inch',\n",
              " 'Size (WxH): 47\" x 39\" inch',\n",
              " 'Size (WxH): 47\" x 39\" inch',\n",
              " 'Size (WxH): 16\" x 24\" inch',\n",
              " 'Size (WxH): 47\" x 35\" inch',\n",
              " 'Size (WxH): 28\" x 47\" inch',\n",
              " 'Size (WxH): 28\" x 47\" inch',\n",
              " 'Size (WxH): 31\" x 39\" inch',\n",
              " 'Size (WxH): 24\" x 35\" inch',\n",
              " 'Size (WxH): 24\" x 31\" inch',\n",
              " 'Size (WxH): 28\" x 35\" inch',\n",
              " 'Size (WxH): 20\" x 35\" inch',\n",
              " 'Size (WxH): 31\" x 31\" inch',\n",
              " 'Size (WxH): 24\" x 24\" inch',\n",
              " 'Size (WxH): 31\" x 31\" inch',\n",
              " 'Size (WxH): 28\" x 35\" inch',\n",
              " 'Size (WxH): 31\" x 31\" inch',\n",
              " 'Size (WxH): 59\" x 20\" inch',\n",
              " 'Size (WxH): 31\" x 39\" inch',\n",
              " 'Size (WxH): 28\" x 39\" inch',\n",
              " 'Size (WxH): 31\" x 39\" inch',\n",
              " 'Size (WxH): 28\" x 35\" inch']"
            ]
          },
          "metadata": {
            "tags": []
          },
          "execution_count": 408
        }
      ]
    },
    {
      "cell_type": "code",
      "metadata": {
        "colab": {
          "base_uri": "https://localhost:8080/"
        },
        "id": "E0gBDnBletne",
        "outputId": "106cbee7-1e32-409b-c43d-1622f1276ddb"
      },
      "source": [
        "dimension = []\n",
        "index = 0\n",
        "for i in d:\n",
        "  index += 1\n",
        "  num = re.findall(\"[0-9]+.+[0-9]+.\", str(i))\n",
        "  dimension.append(num[0])\n",
        "print(len(dimension))\n",
        "dimension"
      ],
      "execution_count": 409,
      "outputs": [
        {
          "output_type": "stream",
          "text": [
            "50\n"
          ],
          "name": "stdout"
        },
        {
          "output_type": "execute_result",
          "data": {
            "text/plain": [
              "['28\" x 20\"',\n",
              " '35\" x 35\"',\n",
              " '59\" x 79\"',\n",
              " '79\" x 59\"',\n",
              " '59\" x 67\"',\n",
              " '59\" x 67\"',\n",
              " '59\" x 67\"',\n",
              " '55\" x 63\"',\n",
              " '31\" x 39\"',\n",
              " '39\" x 39\"',\n",
              " '43\" x 31\"',\n",
              " '28\" x 35\"',\n",
              " '24\" x 35\"',\n",
              " '39\" x 39\"',\n",
              " '39\" x 39\"',\n",
              " '28\" x 28\"',\n",
              " '28\" x 28\"',\n",
              " '20\" x 12\"',\n",
              " '31\" x 31\"',\n",
              " '31\" x 31\"',\n",
              " '31\" x 31\"',\n",
              " '31\" x 31\"',\n",
              " '35\" x 35\"',\n",
              " '47\" x 55\"',\n",
              " '39\" x 47\"',\n",
              " '35\" x 35\"',\n",
              " '35\" x 35\"',\n",
              " '35\" x 35\"',\n",
              " '35\" x 35\"',\n",
              " '47\" x 39\"',\n",
              " '47\" x 39\"',\n",
              " '16\" x 24\"',\n",
              " '47\" x 35\"',\n",
              " '28\" x 47\"',\n",
              " '28\" x 47\"',\n",
              " '31\" x 39\"',\n",
              " '24\" x 35\"',\n",
              " '24\" x 31\"',\n",
              " '28\" x 35\"',\n",
              " '20\" x 35\"',\n",
              " '31\" x 31\"',\n",
              " '24\" x 24\"',\n",
              " '31\" x 31\"',\n",
              " '28\" x 35\"',\n",
              " '31\" x 31\"',\n",
              " '59\" x 20\"',\n",
              " '31\" x 39\"',\n",
              " '28\" x 39\"',\n",
              " '31\" x 39\"',\n",
              " '28\" x 35\"']"
            ]
          },
          "metadata": {
            "tags": []
          },
          "execution_count": 409
        }
      ]
    },
    {
      "cell_type": "code",
      "metadata": {
        "colab": {
          "base_uri": "https://localhost:8080/"
        },
        "id": "nf4LDeB6JZXJ",
        "outputId": "903f10c1-05e6-4138-a137-42c649cabcc6"
      },
      "source": [
        "from google.colab import drive\n",
        "drive.mount('/content/drive')"
      ],
      "execution_count": 154,
      "outputs": [
        {
          "output_type": "stream",
          "text": [
            "Drive already mounted at /content/drive; to attempt to forcibly remount, call drive.mount(\"/content/drive\", force_remount=True).\n"
          ],
          "name": "stdout"
        }
      ]
    },
    {
      "cell_type": "code",
      "metadata": {
        "id": "7SGWGIQsJJ2X"
      },
      "source": [
        "df = pd.DataFrame()\n",
        "df.insert(loc=0, column='price(USD)', value=price)\n",
        "df.insert(loc=0, column='dimension', value=dimension)\n",
        "df.insert(loc=0, column='image', value=img)\n",
        "\n",
        "df.head()\n",
        "df.to_csv('/content/drive/My Drive/291 project data/data.csv')"
      ],
      "execution_count": 410,
      "outputs": []
    }
  ]
}