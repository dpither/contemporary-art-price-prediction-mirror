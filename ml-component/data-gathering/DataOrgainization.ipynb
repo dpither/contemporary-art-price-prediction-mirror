{
  "nbformat": 4,
  "nbformat_minor": 0,
  "metadata": {
    "colab": {
      "name": "DataOrgainization.ipynb",
      "provenance": [],
      "collapsed_sections": []
    },
    "kernelspec": {
      "name": "python3",
      "display_name": "Python 3"
    },
    "language_info": {
      "name": "python"
    }
  },
  "cells": [
    {
      "cell_type": "markdown",
      "metadata": {
        "id": "TNwkL8-QqRH0"
      },
      "source": [
        "# Data Gathering Part 2\n",
        "Download images and make labels"
      ]
    },
    {
      "cell_type": "code",
      "metadata": {
        "id": "iGGA_Mu_qXnk"
      },
      "source": [
        "import requests, re, time\n",
        "import torch, torchvision\n",
        "from torch import nn, optim\n",
        "from torchvision import datasets, models, transforms\n",
        "import matplotlib.pyplot as pl\n",
        "from tqdm.auto import tqdm\n",
        "import pandas as pd"
      ],
      "execution_count": null,
      "outputs": []
    },
    {
      "cell_type": "code",
      "metadata": {
        "colab": {
          "base_uri": "https://localhost:8080/"
        },
        "id": "jAerA2Snqm8P",
        "outputId": "632eacf1-5b8a-4314-d193-b1bea2386f26"
      },
      "source": [
        "from google.colab import drive\n",
        "drive.mount('/content/drive')"
      ],
      "execution_count": null,
      "outputs": [
        {
          "output_type": "stream",
          "text": [
            "Mounted at /content/drive\n"
          ],
          "name": "stdout"
        }
      ]
    },
    {
      "cell_type": "code",
      "metadata": {
        "colab": {
          "base_uri": "https://localhost:8080/",
          "height": 204
        },
        "id": "dDnI3jWWqzx2",
        "outputId": "dbe9281a-e39f-4cd2-d462-4d45c7b5b25e"
      },
      "source": [
        "df = pd.read_csv('/content/drive/My Drive/CPEN 291/project/artsy.csv')\n",
        "df.head()"
      ],
      "execution_count": null,
      "outputs": [
        {
          "output_type": "execute_result",
          "data": {
            "text/html": [
              "<div>\n",
              "<style scoped>\n",
              "    .dataframe tbody tr th:only-of-type {\n",
              "        vertical-align: middle;\n",
              "    }\n",
              "\n",
              "    .dataframe tbody tr th {\n",
              "        vertical-align: top;\n",
              "    }\n",
              "\n",
              "    .dataframe thead th {\n",
              "        text-align: right;\n",
              "    }\n",
              "</style>\n",
              "<table border=\"1\" class=\"dataframe\">\n",
              "  <thead>\n",
              "    <tr style=\"text-align: right;\">\n",
              "      <th></th>\n",
              "      <th>Unnamed: 0</th>\n",
              "      <th>image</th>\n",
              "      <th>price</th>\n",
              "    </tr>\n",
              "  </thead>\n",
              "  <tbody>\n",
              "    <tr>\n",
              "      <th>0</th>\n",
              "      <td>0</td>\n",
              "      <td>https://d7hftxdivxxvm.cloudfront.net/?resize_t...</td>\n",
              "      <td>$12,000</td>\n",
              "    </tr>\n",
              "    <tr>\n",
              "      <th>1</th>\n",
              "      <td>1</td>\n",
              "      <td>https://d7hftxdivxxvm.cloudfront.net/?resize_t...</td>\n",
              "      <td>$6,250</td>\n",
              "    </tr>\n",
              "    <tr>\n",
              "      <th>2</th>\n",
              "      <td>2</td>\n",
              "      <td>https://d7hftxdivxxvm.cloudfront.net/?resize_t...</td>\n",
              "      <td>$5,000</td>\n",
              "    </tr>\n",
              "    <tr>\n",
              "      <th>3</th>\n",
              "      <td>3</td>\n",
              "      <td>https://d7hftxdivxxvm.cloudfront.net/?resize_t...</td>\n",
              "      <td>$475</td>\n",
              "    </tr>\n",
              "    <tr>\n",
              "      <th>4</th>\n",
              "      <td>4</td>\n",
              "      <td>https://d7hftxdivxxvm.cloudfront.net/?resize_t...</td>\n",
              "      <td>$5,100</td>\n",
              "    </tr>\n",
              "  </tbody>\n",
              "</table>\n",
              "</div>"
            ],
            "text/plain": [
              "   Unnamed: 0                                              image    price\n",
              "0           0  https://d7hftxdivxxvm.cloudfront.net/?resize_t...  $12,000\n",
              "1           1  https://d7hftxdivxxvm.cloudfront.net/?resize_t...   $6,250\n",
              "2           2  https://d7hftxdivxxvm.cloudfront.net/?resize_t...   $5,000\n",
              "3           3  https://d7hftxdivxxvm.cloudfront.net/?resize_t...     $475\n",
              "4           4  https://d7hftxdivxxvm.cloudfront.net/?resize_t...   $5,100"
            ]
          },
          "metadata": {
            "tags": []
          },
          "execution_count": 16
        }
      ]
    },
    {
      "cell_type": "code",
      "metadata": {
        "id": "3VOWUTnEte__"
      },
      "source": [
        "# Currency convertor/ Price formatter\n",
        "# Assuming that exchange rates have not changed drastically since the time of auction\n",
        "import re\n",
        "def cr_cnvrtr(oldPrice):\n",
        "  rates = {\n",
        "      \"$\" : 1,\n",
        "      \"£\" : 1.37,\n",
        "      \"PHP \" : 0.02,\n",
        "      \"PHP\\xa0\" : 0.02,\n",
        "      \"CZK \" : 0.04,\n",
        "      \"CZK\\xa0\" : 0.04,\n",
        "      \"CHF \" : 1.06,\n",
        "      \"CHF\\xa0\" : 1.06,\n",
        "      \"€\" : 1.17,\n",
        "      \"CA$\" : 0.79,\n",
        "      \"A$\" : 0.76,\n",
        "      \"PLN \" : 0.25,\n",
        "      \"PLN\\xa0\" : 0.25,\n",
        "      \"NZ$\" : 0.7,\n",
        "      \"ZAR \" : 0.07,\n",
        "      \"ZAR\\xa0\" : 0.07,\n",
        "      \"NT$\" : 0.04\n",
        "           }\n",
        "  if ('$' in oldPrice):\n",
        "    oldPlist = re.split('1|2|3|4|5|6|7|8|9', oldPrice);\n",
        "    newP = float(oldPrice.replace(oldPlist[0], '').replace(',', '')) * rates[oldPlist[0]]\n",
        "  else:\n",
        "    newP = float(oldPrice.replace(',', ''))\n",
        "  #print(newP)\n",
        "  return newP"
      ],
      "execution_count": null,
      "outputs": []
    },
    {
      "cell_type": "code",
      "metadata": {
        "colab": {
          "base_uri": "https://localhost:8080/",
          "height": 204
        },
        "id": "rI2yNXs3wQmZ",
        "outputId": "6f4e4151-e385-4200-b08f-640117905074"
      },
      "source": [
        "df[\"price\"] = df[\"price\"].apply(cr_cnvrtr)\n",
        "df.head()"
      ],
      "execution_count": null,
      "outputs": [
        {
          "output_type": "execute_result",
          "data": {
            "text/html": [
              "<div>\n",
              "<style scoped>\n",
              "    .dataframe tbody tr th:only-of-type {\n",
              "        vertical-align: middle;\n",
              "    }\n",
              "\n",
              "    .dataframe tbody tr th {\n",
              "        vertical-align: top;\n",
              "    }\n",
              "\n",
              "    .dataframe thead th {\n",
              "        text-align: right;\n",
              "    }\n",
              "</style>\n",
              "<table border=\"1\" class=\"dataframe\">\n",
              "  <thead>\n",
              "    <tr style=\"text-align: right;\">\n",
              "      <th></th>\n",
              "      <th>Unnamed: 0</th>\n",
              "      <th>image</th>\n",
              "      <th>price</th>\n",
              "    </tr>\n",
              "  </thead>\n",
              "  <tbody>\n",
              "    <tr>\n",
              "      <th>0</th>\n",
              "      <td>0</td>\n",
              "      <td>https://d7hftxdivxxvm.cloudfront.net/?resize_t...</td>\n",
              "      <td>12000.0</td>\n",
              "    </tr>\n",
              "    <tr>\n",
              "      <th>1</th>\n",
              "      <td>1</td>\n",
              "      <td>https://d7hftxdivxxvm.cloudfront.net/?resize_t...</td>\n",
              "      <td>6250.0</td>\n",
              "    </tr>\n",
              "    <tr>\n",
              "      <th>2</th>\n",
              "      <td>2</td>\n",
              "      <td>https://d7hftxdivxxvm.cloudfront.net/?resize_t...</td>\n",
              "      <td>5000.0</td>\n",
              "    </tr>\n",
              "    <tr>\n",
              "      <th>3</th>\n",
              "      <td>3</td>\n",
              "      <td>https://d7hftxdivxxvm.cloudfront.net/?resize_t...</td>\n",
              "      <td>475.0</td>\n",
              "    </tr>\n",
              "    <tr>\n",
              "      <th>4</th>\n",
              "      <td>4</td>\n",
              "      <td>https://d7hftxdivxxvm.cloudfront.net/?resize_t...</td>\n",
              "      <td>5100.0</td>\n",
              "    </tr>\n",
              "  </tbody>\n",
              "</table>\n",
              "</div>"
            ],
            "text/plain": [
              "   Unnamed: 0                                              image    price\n",
              "0           0  https://d7hftxdivxxvm.cloudfront.net/?resize_t...  12000.0\n",
              "1           1  https://d7hftxdivxxvm.cloudfront.net/?resize_t...   6250.0\n",
              "2           2  https://d7hftxdivxxvm.cloudfront.net/?resize_t...   5000.0\n",
              "3           3  https://d7hftxdivxxvm.cloudfront.net/?resize_t...    475.0\n",
              "4           4  https://d7hftxdivxxvm.cloudfront.net/?resize_t...   5100.0"
            ]
          },
          "metadata": {
            "tags": []
          },
          "execution_count": 24
        }
      ]
    },
    {
      "cell_type": "code",
      "metadata": {
        "colab": {
          "base_uri": "https://localhost:8080/",
          "height": 49
        },
        "id": "D63Y2mdisO_A",
        "outputId": "f595b2fc-9a98-41c7-fe1d-e103f7e63f3c"
      },
      "source": [
        "labels = pd.DataFrame(columns=['name', 'price'])\n",
        "labels.head()\n"
      ],
      "execution_count": null,
      "outputs": [
        {
          "output_type": "execute_result",
          "data": {
            "text/html": [
              "<div>\n",
              "<style scoped>\n",
              "    .dataframe tbody tr th:only-of-type {\n",
              "        vertical-align: middle;\n",
              "    }\n",
              "\n",
              "    .dataframe tbody tr th {\n",
              "        vertical-align: top;\n",
              "    }\n",
              "\n",
              "    .dataframe thead th {\n",
              "        text-align: right;\n",
              "    }\n",
              "</style>\n",
              "<table border=\"1\" class=\"dataframe\">\n",
              "  <thead>\n",
              "    <tr style=\"text-align: right;\">\n",
              "      <th></th>\n",
              "      <th>name</th>\n",
              "      <th>price</th>\n",
              "    </tr>\n",
              "  </thead>\n",
              "  <tbody>\n",
              "  </tbody>\n",
              "</table>\n",
              "</div>"
            ],
            "text/plain": [
              "Empty DataFrame\n",
              "Columns: [name, price]\n",
              "Index: []"
            ]
          },
          "metadata": {
            "tags": []
          },
          "execution_count": 25
        }
      ]
    },
    {
      "cell_type": "code",
      "metadata": {
        "id": "0xx2Ndn4s6Zo"
      },
      "source": [
        "# liveauctioneers\n",
        "for index, row in df.iterrows():\n",
        "  if (row['price'] <= 20000): # Upper threshold we chose\n",
        "    newRow = {'name': f'liveauctioneer_{index}.jpg', 'price': row['price']};\n",
        "    resp = requests.get(row['image'])\n",
        "    with open(f\"/content/drive/My Drive/CPEN 291/project/data/liveauctioneer_{index}.jpg\", 'wb') as f:\n",
        "        f.write(resp.content)\n",
        "    labels = labels.append(newRow, ignore_index=True)\n",
        "    time.sleep(5)\n",
        "\n",
        "labels.to_csv('/content/drive/My Drive/CPEN 291/project/data/liveauctioneer_labels.csv')\n"
      ],
      "execution_count": null,
      "outputs": []
    },
    {
      "cell_type": "code",
      "metadata": {
        "id": "2fgft7HzRNV3"
      },
      "source": [
        "# artsy\n",
        "for index, row in df.iterrows():\n",
        "  if (row['price'] <= 20000): # Upper threshold we chose\n",
        "    newRow = {'name': f'artsy_{index}.jpg', 'price': row['price']};\n",
        "    resp = requests.get(row['image'])\n",
        "    with open(f\"/content/drive/My Drive/CPEN 291/project/data/artsy_{index}.jpg\", 'wb') as f:\n",
        "        f.write(resp.content)\n",
        "    labels = labels.append(newRow, ignore_index=True)\n",
        "    time.sleep(2)\n",
        "\n",
        "labels.to_csv('/content/drive/My Drive/CPEN 291/project/data/artsy_labels.csv')"
      ],
      "execution_count": null,
      "outputs": []
    },
    {
      "cell_type": "code",
      "metadata": {
        "colab": {
          "base_uri": "https://localhost:8080/",
          "height": 49
        },
        "id": "fWuZXAeXOFox",
        "outputId": "f5fb63a6-8225-42d2-9d6d-c165a45b0a72"
      },
      "source": [
        "labels = pd.DataFrame(columns=['name', 'price'])\n",
        "labels.head()"
      ],
      "execution_count": null,
      "outputs": [
        {
          "output_type": "execute_result",
          "data": {
            "text/html": [
              "<div>\n",
              "<style scoped>\n",
              "    .dataframe tbody tr th:only-of-type {\n",
              "        vertical-align: middle;\n",
              "    }\n",
              "\n",
              "    .dataframe tbody tr th {\n",
              "        vertical-align: top;\n",
              "    }\n",
              "\n",
              "    .dataframe thead th {\n",
              "        text-align: right;\n",
              "    }\n",
              "</style>\n",
              "<table border=\"1\" class=\"dataframe\">\n",
              "  <thead>\n",
              "    <tr style=\"text-align: right;\">\n",
              "      <th></th>\n",
              "      <th>name</th>\n",
              "      <th>price</th>\n",
              "    </tr>\n",
              "  </thead>\n",
              "  <tbody>\n",
              "  </tbody>\n",
              "</table>\n",
              "</div>"
            ],
            "text/plain": [
              "Empty DataFrame\n",
              "Columns: [name, price]\n",
              "Index: []"
            ]
          },
          "metadata": {
            "tags": []
          },
          "execution_count": 28
        }
      ]
    },
    {
      "cell_type": "code",
      "metadata": {
        "colab": {
          "base_uri": "https://localhost:8080/",
          "height": 204
        },
        "id": "HOFj35PHiGIn",
        "outputId": "45aa9842-5a47-431b-f6f6-b73d64059273"
      },
      "source": [
        "# christies\n",
        "df = pd.read_excel('/content/drive/My Drive/CPEN 291/project/christies.xlsx')\n",
        "df.head()"
      ],
      "execution_count": null,
      "outputs": [
        {
          "output_type": "execute_result",
          "data": {
            "text/html": [
              "<div>\n",
              "<style scoped>\n",
              "    .dataframe tbody tr th:only-of-type {\n",
              "        vertical-align: middle;\n",
              "    }\n",
              "\n",
              "    .dataframe tbody tr th {\n",
              "        vertical-align: top;\n",
              "    }\n",
              "\n",
              "    .dataframe thead th {\n",
              "        text-align: right;\n",
              "    }\n",
              "</style>\n",
              "<table border=\"1\" class=\"dataframe\">\n",
              "  <thead>\n",
              "    <tr style=\"text-align: right;\">\n",
              "      <th></th>\n",
              "      <th>Unnamed: 0</th>\n",
              "      <th>image</th>\n",
              "      <th>Unnamed: 2</th>\n",
              "      <th>price</th>\n",
              "    </tr>\n",
              "  </thead>\n",
              "  <tbody>\n",
              "    <tr>\n",
              "      <th>0</th>\n",
              "      <td>1</td>\n",
              "      <td>https://www.christies.com/img/LotImages/2021/C...</td>\n",
              "      <td>12000</td>\n",
              "      <td>16800</td>\n",
              "    </tr>\n",
              "    <tr>\n",
              "      <th>1</th>\n",
              "      <td>2</td>\n",
              "      <td>https://www.christies.com/img/LotImages/2021/C...</td>\n",
              "      <td>6000</td>\n",
              "      <td>8400</td>\n",
              "    </tr>\n",
              "    <tr>\n",
              "      <th>2</th>\n",
              "      <td>3</td>\n",
              "      <td>https://www.christies.com/img/LotImages/2021/C...</td>\n",
              "      <td>10000</td>\n",
              "      <td>14000</td>\n",
              "    </tr>\n",
              "    <tr>\n",
              "      <th>3</th>\n",
              "      <td>4</td>\n",
              "      <td>https://www.christies.com/img/LotImages/2021/C...</td>\n",
              "      <td>5000</td>\n",
              "      <td>7000</td>\n",
              "    </tr>\n",
              "    <tr>\n",
              "      <th>4</th>\n",
              "      <td>5</td>\n",
              "      <td>https://www.christies.com/img/LotImages/2021/C...</td>\n",
              "      <td>2500</td>\n",
              "      <td>3500</td>\n",
              "    </tr>\n",
              "  </tbody>\n",
              "</table>\n",
              "</div>"
            ],
            "text/plain": [
              "   Unnamed: 0  ...  price\n",
              "0           1  ...  16800\n",
              "1           2  ...   8400\n",
              "2           3  ...  14000\n",
              "3           4  ...   7000\n",
              "4           5  ...   3500\n",
              "\n",
              "[5 rows x 4 columns]"
            ]
          },
          "metadata": {
            "tags": []
          },
          "execution_count": 4
        }
      ]
    },
    {
      "cell_type": "code",
      "metadata": {
        "id": "oA_pNq80hzzl"
      },
      "source": [
        "# christies\n",
        "for index, row in df.iterrows():\n",
        "  if (row['price'] <= 20000): # Upper threshold we chose\n",
        "    newRow = {'name': f'christies_{index}.jpg', 'price': row['price']};\n",
        "    resp = requests.get(row['image'])\n",
        "    with open(f\"/content/drive/My Drive/CPEN 291/project/data/christies_{index}.jpg\", 'wb') as f:\n",
        "        f.write(resp.content)\n",
        "    labels = labels.append(newRow, ignore_index=True)\n",
        "    time.sleep(5)\n",
        "\n",
        "labels.to_csv('/content/drive/My Drive/CPEN 291/project/data/christies_labels.csv')\n"
      ],
      "execution_count": null,
      "outputs": []
    },
    {
      "cell_type": "code",
      "metadata": {
        "colab": {
          "base_uri": "https://localhost:8080/",
          "height": 168,
          "referenced_widgets": [
            "0d77a05e81844cdaa0514c2d2bd2ec53",
            "55ea7837b3da4ef4b43af9e91ff88abc",
            "f44c26b3a2cf46c7bef2267565826eae",
            "5f47dc8179724177b56cbaa28d541f51",
            "878d6dc9bc6143eab4b799d87f8c8f73",
            "b30f23125b0843d2a435f689526514ee",
            "d4e972fc492d44d0ab90551499a28333",
            "0f3f34ec428c4181a533e3fe86a13b95"
          ]
        },
        "id": "rNz_dpLfN8A-",
        "outputId": "c9b71e27-889b-4b4b-f303-717e81c9da67"
      },
      "source": [
        "# artsper\n",
        "df = pd.read_excel('/content/drive/My Drive/CPEN 291/project/artsper.xlsx')\n",
        "print(df.head())\n",
        "for index, row in tqdm(df.iterrows(), total=df.shape[0]):\n",
        "  if (row['price'] <= 20000): # Upper threshold we chose\n",
        "    newRow = {'name': f'artsper_{index}.jpg', 'price': row['price']};\n",
        "    resp = requests.get(row['image'])\n",
        "    with open(f\"/content/drive/My Drive/CPEN 291/project/data/artsper_{index}.jpg\", 'wb') as f:\n",
        "        f.write(resp.content)\n",
        "    labels = labels.append(newRow, ignore_index=True)\n",
        "    time.sleep(2)\n",
        "\n",
        "labels.to_csv('/content/drive/My Drive/CPEN 291/project/data/artsper_labels.csv')"
      ],
      "execution_count": null,
      "outputs": [
        {
          "output_type": "stream",
          "text": [
            "   Unnamed: 0                                              image  price\n",
            "0           1  https://media.artsper.com/artwork/1042986_1_gr...    307\n",
            "1           2  https://media.artsper.com/artwork/1057140_1_gr...   3440\n",
            "2           3  https://media.artsper.com/artwork/1053681_1_gr...   3071\n",
            "3           4  https://media.artsper.com/artwork/1060317_1_gr...   2076\n",
            "4           5  https://media.artsper.com/artwork/1061736_1_gr...    491\n"
          ],
          "name": "stdout"
        },
        {
          "output_type": "display_data",
          "data": {
            "application/vnd.jupyter.widget-view+json": {
              "model_id": "0d77a05e81844cdaa0514c2d2bd2ec53",
              "version_minor": 0,
              "version_major": 2
            },
            "text/plain": [
              "HBox(children=(FloatProgress(value=0.0, max=569.0), HTML(value='')))"
            ]
          },
          "metadata": {
            "tags": []
          }
        },
        {
          "output_type": "stream",
          "text": [
            "\n"
          ],
          "name": "stdout"
        }
      ]
    },
    {
      "cell_type": "code",
      "metadata": {
        "id": "6Nsf4C9dAkl6"
      },
      "source": [
        "a = labels.loc[labels['name'] == 'liveauctioneer_101.jpg'].index[0]\n",
        "labels.loc[labels['name'] == 'liveauctioneer_101.jpg']['price'][a]"
      ],
      "execution_count": null,
      "outputs": []
    },
    {
      "cell_type": "code",
      "metadata": {
        "id": "I4JU_Y_Vrctx"
      },
      "source": [
        "# combine all labels csv files\n",
        "chr = pd.read_csv('/content/drive/My Drive/CPEN 291/project/data/christies_labels.csv')\n",
        "live = pd.read_csv('/content/drive/My Drive/CPEN 291/project/data/liveauctioneer_labels.csv')\n",
        "artsy = pd.read_csv('/content/drive/My Drive/CPEN 291/project/data/artsy_labels.csv')\n",
        "artsper = pd.read_csv('/content/drive/My Drive/CPEN 291/project/data/artsper_labels.csv')\n",
        "\n",
        "frames = [chr, live, artsy, artsper]\n",
        "result = pd.concat(frames)\n",
        "\n",
        "result.to_csv('/content/drive/My Drive/CPEN 291/project/data/all_labels.csv')\n"
      ],
      "execution_count": null,
      "outputs": []
    }
  ]
}