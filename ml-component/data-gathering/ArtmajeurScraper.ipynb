{
  "nbformat": 4,
  "nbformat_minor": 0,
  "metadata": {
    "colab": {
      "name": "ArtmajeurScraper.ipynb",
      "provenance": []
    },
    "kernelspec": {
      "name": "python3",
      "display_name": "Python 3"
    },
    "language_info": {
      "name": "python"
    }
  },
  "cells": [
    {
      "cell_type": "code",
      "metadata": {
        "id": "o9hpP3IKBwNb"
      },
      "source": [
        "import requests, re, time\n",
        "import numpy as np\n",
        "\n",
        "import torch, torchvision\n",
        "from torch import nn, optim\n",
        "from torchvision import datasets, models, transforms\n",
        "import matplotlib.pyplot as plt\n",
        "# For HTML parsing\n",
        "from bs4 import BeautifulSoup as BS\n",
        "# For making csv files to store prices of paintings\n",
        "import pandas as pd\n",
        "#Price help\n",
        "from re import sub\n",
        "from decimal import Decimal"
      ],
      "execution_count": null,
      "outputs": []
    },
    {
      "cell_type": "code",
      "metadata": {
        "colab": {
          "base_uri": "https://localhost:8080/"
        },
        "id": "rSXNv3mVCADg",
        "outputId": "e46edc05-3b5d-4896-adc0-b89a2bf9bca5"
      },
      "source": [
        "from google.colab import drive\n",
        "drive.mount('/content/drive')"
      ],
      "execution_count": null,
      "outputs": [
        {
          "output_type": "stream",
          "text": [
            "Mounted at /content/drive\n"
          ],
          "name": "stdout"
        }
      ]
    },
    {
      "cell_type": "code",
      "metadata": {
        "id": "8n4TnvPvCH2B"
      },
      "source": [
        "resp = requests.get(\"https://www.artmajeur.com/en/artworks/painting?saleOptions=sale&page=1\")\n",
        "soup = BS(resp.content.decode())"
      ],
      "execution_count": null,
      "outputs": []
    },
    {
      "cell_type": "code",
      "metadata": {
        "colab": {
          "base_uri": "https://localhost:8080/"
        },
        "id": "KlkKBnApCYcP",
        "outputId": "a27916b6-c36f-428c-8d60-a216ec2bf768"
      },
      "source": [
        "#Testing scraping images\n",
        "imgs = []\n",
        "\n",
        "for tag in soup.find_all('figure'):\n",
        "      imgs.append(tag.img.get('src'))\n",
        "\n",
        "print(len(imgs))\n",
        "print(imgs[30])\n",
        "\n"
      ],
      "execution_count": null,
      "outputs": [
        {
          "output_type": "stream",
          "text": [
            "35\n",
            "https://www.artmajeur.com/medias/mini/e/l/elewarne/artwork/14402504_marilyn.jpg\n"
          ],
          "name": "stdout"
        }
      ]
    },
    {
      "cell_type": "code",
      "metadata": {
        "colab": {
          "base_uri": "https://localhost:8080/"
        },
        "id": "0YNw-h7ffGv9",
        "outputId": "c78b2cd6-2af6-48d8-df38-9a7d31834e17"
      },
      "source": [
        "#When I used the site prices shown in CAD but seems that scraper recieves prices in USD\n",
        "#Testing scraping prices\n",
        "prices = []\n",
        "for tag in soup.find_all('div', class_='text-strong text-right ml-2'):\n",
        "      price = tag.span.text\n",
        "      if price[0] is not 'O':\n",
        "        price = Decimal(sub(r'[^\\d.]', '', price))\n",
        "      \n",
        "      prices.append(price)\n",
        "\n",
        "print(len(prices))\n",
        "print(imgs[25],prices[25])"
      ],
      "execution_count": null,
      "outputs": [
        {
          "output_type": "stream",
          "text": [
            "35\n",
            "https://www.artmajeur.com/medias/mini/a/r/arnaud-feuga/artwork/14297813_putting-au-trou-n-11.jpg?v=1615813275 1509.94\n"
          ],
          "name": "stdout"
        }
      ]
    },
    {
      "cell_type": "code",
      "metadata": {
        "id": "5riH4St9EAdZ",
        "colab": {
          "base_uri": "https://localhost:8080/"
        },
        "outputId": "fabe0f97-c9a5-43c9-ddd4-99c0868ab7c5"
      },
      "source": [
        "#Testing scraping artists\n",
        "artists = []\n",
        "for tag in soup.find_all('a', class_='h6 artist-title font-weight-normal pb-0 mb-1'):\n",
        "  artists.append(tag.text)\n",
        "print(len(artists))\n",
        "print(imgs[10],artists[10])"
      ],
      "execution_count": null,
      "outputs": [
        {
          "output_type": "stream",
          "text": [
            "35\n",
            "https://www.artmajeur.com/medias/mini/d/o/dominique-laude/artwork/14487614_en-attendant-hst-50x50cm-last.jpg \n",
            "                Laude\n",
            "            \n"
          ],
          "name": "stdout"
        }
      ]
    },
    {
      "cell_type": "code",
      "metadata": {
        "colab": {
          "base_uri": "https://localhost:8080/"
        },
        "id": "nqFYJ_3yiIJj",
        "outputId": "5f53b164-1708-40a7-f67e-1c152509d990"
      },
      "source": [
        "#Going on website for me shows dimensions in cm, but scraper seems to recieve it in inches\n",
        "#Testing scraping dimensions\n",
        "heights = []\n",
        "widths = []\n",
        "for tag in soup.find_all('span', class_ = 'artwork-size'):\n",
        "  text = tag.text\n",
        "  height,width = text.split(\"x\") \n",
        "  width, _ = width.split(\" \")\n",
        "  heights.append(height)\n",
        "  widths.append(width)\n",
        "\n",
        "print(len(widths))\n",
        "print(heights[30], widths[30], imgs[30])\n"
      ],
      "execution_count": null,
      "outputs": [
        {
          "output_type": "stream",
          "text": [
            "35\n",
            "\n",
            "16.5 11.7 https://www.artmajeur.com/medias/mini/r/i/riina-sirel/artwork/14486750_15a90e85-a898-44b1-9034-8032c2049efe.jpg\n"
          ],
          "name": "stdout"
        }
      ]
    },
    {
      "cell_type": "code",
      "metadata": {
        "id": "-9odIvxFjZbn"
      },
      "source": [
        "#PARSING MULTIPLE PAGES\n",
        "imgs = []\n",
        "artists = []\n",
        "widths = []\n",
        "heights = []\n",
        "prices = []\n",
        "for page in range(1, 278):\n",
        "  resp = requests.get(f'https://www.artmajeur.com/en/artworks/painting?saleOptions=sale&page={page}')\n",
        "  soup = BS(resp.content.decode())\n",
        "\n",
        "  #imgs\n",
        "  for tag in soup.find_all('figure'):\n",
        "      imgs.append(tag.img.get('src'))\n",
        "  #prices\n",
        "  for tag in soup.find_all('div', class_='text-strong text-right ml-2'):\n",
        "      price = tag.span.text\n",
        "      if price[0] is not 'O':\n",
        "        price = Decimal(sub(r'[^\\d.]', '', price))\n",
        "      \n",
        "      prices.append(price)\n",
        "  #artists\n",
        "  for tag in soup.find_all('a', class_='h6 artist-title font-weight-normal pb-0 mb-1'):\n",
        "      artists.append(tag.text)\n",
        "  #dims\n",
        "  for tag in soup.find_all('span', class_ = 'artwork-size'):\n",
        "      text = tag.text\n",
        "      height,width = text.split(\"x\") \n",
        "      width, _ = width.split(\" \")\n",
        "      heights.append(height)\n",
        "      widths.append(width)\n"
      ],
      "execution_count": null,
      "outputs": []
    },
    {
      "cell_type": "code",
      "metadata": {
        "colab": {
          "base_uri": "https://localhost:8080/"
        },
        "id": "Z7nq0zG8lHgd",
        "outputId": "741f2008-e931-47e4-e60d-3aa9a5f1b2a0"
      },
      "source": [
        "len(artists)"
      ],
      "execution_count": null,
      "outputs": [
        {
          "output_type": "execute_result",
          "data": {
            "text/plain": [
              "9796"
            ]
          },
          "metadata": {
            "tags": []
          },
          "execution_count": 124
        }
      ]
    },
    {
      "cell_type": "code",
      "metadata": {
        "colab": {
          "base_uri": "https://localhost:8080/"
        },
        "id": "pFFYiq6KvB-d",
        "outputId": "f9b9c5f9-2c88-46f5-8364-de87b7049eb8"
      },
      "source": [
        "for artist in artists:\n",
        "  artist = artist.strip('\\n')\n"
      ],
      "execution_count": null,
      "outputs": [
        {
          "output_type": "stream",
          "text": [
            "\n",
            "                Tatiana Rezvaya\n",
            "            \n"
          ],
          "name": "stdout"
        }
      ]
    },
    {
      "cell_type": "code",
      "metadata": {
        "id": "ki4VIcCCmUmF"
      },
      "source": [
        "df = pd.DataFrame()\n",
        "df.insert(loc=0, column = 'height (in)', value = heights)\n",
        "df.insert(loc=0, column = 'width (in)', value = widths)\n",
        "df.insert(loc=0, column = 'artist', value = artists)\n",
        "df.insert(loc=0, column = 'price (USD)', value = prices)\n",
        "df.insert(loc=0, column = 'image', value = imgs)"
      ],
      "execution_count": null,
      "outputs": []
    },
    {
      "cell_type": "code",
      "metadata": {
        "colab": {
          "base_uri": "https://localhost:8080/",
          "height": 402
        },
        "id": "bRD1tUUss4WZ",
        "outputId": "e4165dce-f9ae-4eab-c2e3-1230e28db90e"
      },
      "source": [
        "df"
      ],
      "execution_count": null,
      "outputs": [
        {
          "output_type": "execute_result",
          "data": {
            "text/html": [
              "<div>\n",
              "<style scoped>\n",
              "    .dataframe tbody tr th:only-of-type {\n",
              "        vertical-align: middle;\n",
              "    }\n",
              "\n",
              "    .dataframe tbody tr th {\n",
              "        vertical-align: top;\n",
              "    }\n",
              "\n",
              "    .dataframe thead th {\n",
              "        text-align: right;\n",
              "    }\n",
              "</style>\n",
              "<table border=\"1\" class=\"dataframe\">\n",
              "  <thead>\n",
              "    <tr style=\"text-align: right;\">\n",
              "      <th></th>\n",
              "      <th>image</th>\n",
              "      <th>price (USD)</th>\n",
              "      <th>artist</th>\n",
              "      <th>width (in)</th>\n",
              "      <th>height (in)</th>\n",
              "    </tr>\n",
              "  </thead>\n",
              "  <tbody>\n",
              "    <tr>\n",
              "      <th>0</th>\n",
              "      <td>https://www.artmajeur.com/medias/mini/t/a/tati...</td>\n",
              "      <td>2548.35</td>\n",
              "      <td>\\n                Tatiana Rezvaya\\n</td>\n",
              "      <td>31.5</td>\n",
              "      <td>\\n23.6</td>\n",
              "    </tr>\n",
              "    <tr>\n",
              "      <th>1</th>\n",
              "      <td>https://www.artmajeur.com/medias/mini/m/a/mary...</td>\n",
              "      <td>2211.46</td>\n",
              "      <td>\\n                Ryse Kaïa\\n</td>\n",
              "      <td>45.7</td>\n",
              "      <td>\\n35</td>\n",
              "    </tr>\n",
              "    <tr>\n",
              "      <th>2</th>\n",
              "      <td>https://www.artmajeur.com/medias/mini/t/a/tati...</td>\n",
              "      <td>1698.9</td>\n",
              "      <td>\\n                Tatiana Rezvaya\\n</td>\n",
              "      <td>23.6</td>\n",
              "      <td>\\n23.6</td>\n",
              "    </tr>\n",
              "    <tr>\n",
              "      <th>3</th>\n",
              "      <td>https://www.artmajeur.com/medias/mini/m/a/madb...</td>\n",
              "      <td>979.19</td>\n",
              "      <td>\\n                Madeline Berger (MadB)\\n    ...</td>\n",
              "      <td>24</td>\n",
              "      <td>\\n18.1</td>\n",
              "    </tr>\n",
              "    <tr>\n",
              "      <th>4</th>\n",
              "      <td>https://www.artmajeur.com/medias/mini/t/a/tati...</td>\n",
              "      <td>3680.96</td>\n",
              "      <td>\\n                Tatiana Rezvaya\\n</td>\n",
              "      <td>39.4</td>\n",
              "      <td>\\n29.5</td>\n",
              "    </tr>\n",
              "    <tr>\n",
              "      <th>...</th>\n",
              "      <td>...</td>\n",
              "      <td>...</td>\n",
              "      <td>...</td>\n",
              "      <td>...</td>\n",
              "      <td>...</td>\n",
              "    </tr>\n",
              "    <tr>\n",
              "      <th>9791</th>\n",
              "      <td>https://www.artmajeur.com/medias/mini/s/t/stan...</td>\n",
              "      <td>280.32</td>\n",
              "      <td>\\n                Stan Bigda\\n</td>\n",
              "      <td>9.1</td>\n",
              "      <td>\\n9.1</td>\n",
              "    </tr>\n",
              "    <tr>\n",
              "      <th>9792</th>\n",
              "      <td>https://www.artmajeur.com/medias/mini/a/r/arti...</td>\n",
              "      <td>614.3</td>\n",
              "      <td>\\n                Violetta Golovchenko\\n      ...</td>\n",
              "      <td>10.6</td>\n",
              "      <td>\\n10.6</td>\n",
              "    </tr>\n",
              "    <tr>\n",
              "      <th>9793</th>\n",
              "      <td>https://www.artmajeur.com/medias/mini/m/u/muri...</td>\n",
              "      <td>1188.05</td>\n",
              "      <td>\\n                Murielle Bozzia\\n</td>\n",
              "      <td>24</td>\n",
              "      <td>\\n25.2</td>\n",
              "    </tr>\n",
              "    <tr>\n",
              "      <th>9794</th>\n",
              "      <td>https://www.artmajeur.com/medias/mini/e/r/eric...</td>\n",
              "      <td>647.47</td>\n",
              "      <td>\\n                Eric Doisy\\n</td>\n",
              "      <td>23.6</td>\n",
              "      <td>\\n31.5</td>\n",
              "    </tr>\n",
              "    <tr>\n",
              "      <th>9795</th>\n",
              "      <td>https://www.artmajeur.com/medias/mini/m/a/maya...</td>\n",
              "      <td>984.1</td>\n",
              "      <td>\\n                Asteraseae May\\n</td>\n",
              "      <td>19.7</td>\n",
              "      <td>\\n27.6</td>\n",
              "    </tr>\n",
              "  </tbody>\n",
              "</table>\n",
              "<p>9796 rows × 5 columns</p>\n",
              "</div>"
            ],
            "text/plain": [
              "                                                  image  ... height (in)\n",
              "0     https://www.artmajeur.com/medias/mini/t/a/tati...  ...      \\n23.6\n",
              "1     https://www.artmajeur.com/medias/mini/m/a/mary...  ...        \\n35\n",
              "2     https://www.artmajeur.com/medias/mini/t/a/tati...  ...      \\n23.6\n",
              "3     https://www.artmajeur.com/medias/mini/m/a/madb...  ...      \\n18.1\n",
              "4     https://www.artmajeur.com/medias/mini/t/a/tati...  ...      \\n29.5\n",
              "...                                                 ...  ...         ...\n",
              "9791  https://www.artmajeur.com/medias/mini/s/t/stan...  ...       \\n9.1\n",
              "9792  https://www.artmajeur.com/medias/mini/a/r/arti...  ...      \\n10.6\n",
              "9793  https://www.artmajeur.com/medias/mini/m/u/muri...  ...      \\n25.2\n",
              "9794  https://www.artmajeur.com/medias/mini/e/r/eric...  ...      \\n31.5\n",
              "9795  https://www.artmajeur.com/medias/mini/m/a/maya...  ...      \\n27.6\n",
              "\n",
              "[9796 rows x 5 columns]"
            ]
          },
          "metadata": {
            "tags": []
          },
          "execution_count": 179
        }
      ]
    },
    {
      "cell_type": "code",
      "metadata": {
        "id": "JZezsNBsuHqy"
      },
      "source": [
        "clean_df= df[df['price (USD)'] != 'On Request']"
      ],
      "execution_count": null,
      "outputs": []
    },
    {
      "cell_type": "code",
      "metadata": {
        "id": "9YqQZ-v5xmng"
      },
      "source": [
        "clean_df = clean_df.replace('\\\\n',' ', regex=True) \n",
        "clean_df = clean_df.sort_values('artist')\n",
        "clean_df.reset_index(drop=True, inplace=True)"
      ],
      "execution_count": null,
      "outputs": []
    },
    {
      "cell_type": "code",
      "metadata": {
        "colab": {
          "base_uri": "https://localhost:8080/",
          "height": 402
        },
        "id": "yoTjeCnm2lzo",
        "outputId": "54cfce71-a07c-4cd4-a37f-8e7b151850e9"
      },
      "source": [
        "clean_df"
      ],
      "execution_count": null,
      "outputs": [
        {
          "output_type": "execute_result",
          "data": {
            "text/html": [
              "<div>\n",
              "<style scoped>\n",
              "    .dataframe tbody tr th:only-of-type {\n",
              "        vertical-align: middle;\n",
              "    }\n",
              "\n",
              "    .dataframe tbody tr th {\n",
              "        vertical-align: top;\n",
              "    }\n",
              "\n",
              "    .dataframe thead th {\n",
              "        text-align: right;\n",
              "    }\n",
              "</style>\n",
              "<table border=\"1\" class=\"dataframe\">\n",
              "  <thead>\n",
              "    <tr style=\"text-align: right;\">\n",
              "      <th></th>\n",
              "      <th>image</th>\n",
              "      <th>price (USD)</th>\n",
              "      <th>artist</th>\n",
              "      <th>width (in)</th>\n",
              "      <th>height (in)</th>\n",
              "    </tr>\n",
              "  </thead>\n",
              "  <tbody>\n",
              "    <tr>\n",
              "      <th>0</th>\n",
              "      <td>https://www.artmajeur.com/medias/mini/q/u/quat...</td>\n",
              "      <td>308.38</td>\n",
              "      <td>405</td>\n",
              "      <td>19.7</td>\n",
              "      <td>25.6</td>\n",
              "    </tr>\n",
              "    <tr>\n",
              "      <th>1</th>\n",
              "      <td>https://www.artmajeur.com/medias/mini/q/u/quat...</td>\n",
              "      <td>308.38</td>\n",
              "      <td>405</td>\n",
              "      <td>19.7</td>\n",
              "      <td>25.6</td>\n",
              "    </tr>\n",
              "    <tr>\n",
              "      <th>2</th>\n",
              "      <td>https://www.artmajeur.com/medias/mini/q/u/quat...</td>\n",
              "      <td>308.38</td>\n",
              "      <td>405</td>\n",
              "      <td>19.7</td>\n",
              "      <td>25.6</td>\n",
              "    </tr>\n",
              "    <tr>\n",
              "      <th>3</th>\n",
              "      <td>https://www.artmajeur.com/medias/mini/a/-/a-mh...</td>\n",
              "      <td>272.75</td>\n",
              "      <td>609</td>\n",
              "      <td>11.8</td>\n",
              "      <td>15.8</td>\n",
              "    </tr>\n",
              "    <tr>\n",
              "      <th>4</th>\n",
              "      <td>https://www.artmajeur.com/medias/mini/a/-/a-mh...</td>\n",
              "      <td>272.75</td>\n",
              "      <td>609</td>\n",
              "      <td>15.8</td>\n",
              "      <td>11.8</td>\n",
              "    </tr>\n",
              "    <tr>\n",
              "      <th>...</th>\n",
              "      <td>...</td>\n",
              "      <td>...</td>\n",
              "      <td>...</td>\n",
              "      <td>...</td>\n",
              "      <td>...</td>\n",
              "    </tr>\n",
              "    <tr>\n",
              "      <th>9384</th>\n",
              "      <td>https://www.artmajeur.com/medias/mini/a/n/anar...</td>\n",
              "      <td>629.04</td>\n",
              "      <td>Янина Руденко</td>\n",
              "      <td>17.7</td>\n",
              "      <td>17.7</td>\n",
              "    </tr>\n",
              "    <tr>\n",
              "      <th>9385</th>\n",
              "      <td>https://www.artmajeur.com/medias/mini/a/n/anar...</td>\n",
              "      <td>1199.1</td>\n",
              "      <td>Янина Руденко</td>\n",
              "      <td>27.6</td>\n",
              "      <td>31.5</td>\n",
              "    </tr>\n",
              "    <tr>\n",
              "      <th>9386</th>\n",
              "      <td>https://www.artmajeur.com/medias/mini/f/o/fova...</td>\n",
              "      <td>9583</td>\n",
              "      <td>⭐️Fov⭐️</td>\n",
              "      <td>51.2</td>\n",
              "      <td>70.9</td>\n",
              "    </tr>\n",
              "    <tr>\n",
              "      <th>9387</th>\n",
              "      <td>https://www.artmajeur.com/medias/mini/f/o/fova...</td>\n",
              "      <td>9583</td>\n",
              "      <td>⭐️Fov⭐️</td>\n",
              "      <td>51.2</td>\n",
              "      <td>70.9</td>\n",
              "    </tr>\n",
              "    <tr>\n",
              "      <th>9388</th>\n",
              "      <td>https://www.artmajeur.com/medias/mini/l/z/lzz1...</td>\n",
              "      <td>1039.7</td>\n",
              "      <td>志泽 吕</td>\n",
              "      <td>13.6</td>\n",
              "      <td>27.2</td>\n",
              "    </tr>\n",
              "  </tbody>\n",
              "</table>\n",
              "<p>9389 rows × 5 columns</p>\n",
              "</div>"
            ],
            "text/plain": [
              "                                                  image  ... height (in)\n",
              "0     https://www.artmajeur.com/medias/mini/q/u/quat...  ...        25.6\n",
              "1     https://www.artmajeur.com/medias/mini/q/u/quat...  ...        25.6\n",
              "2     https://www.artmajeur.com/medias/mini/q/u/quat...  ...        25.6\n",
              "3     https://www.artmajeur.com/medias/mini/a/-/a-mh...  ...        15.8\n",
              "4     https://www.artmajeur.com/medias/mini/a/-/a-mh...  ...        11.8\n",
              "...                                                 ...  ...         ...\n",
              "9384  https://www.artmajeur.com/medias/mini/a/n/anar...  ...        17.7\n",
              "9385  https://www.artmajeur.com/medias/mini/a/n/anar...  ...        31.5\n",
              "9386  https://www.artmajeur.com/medias/mini/f/o/fova...  ...        70.9\n",
              "9387  https://www.artmajeur.com/medias/mini/f/o/fova...  ...        70.9\n",
              "9388  https://www.artmajeur.com/medias/mini/l/z/lzz1...  ...        27.2\n",
              "\n",
              "[9389 rows x 5 columns]"
            ]
          },
          "metadata": {
            "tags": []
          },
          "execution_count": 194
        }
      ]
    },
    {
      "cell_type": "code",
      "metadata": {
        "id": "ilcnnw1Jv7mn"
      },
      "source": [
        "clean_df.to_csv('/content/drive/My Drive/CPEN291 Project/Artmajeur_Data.csv')"
      ],
      "execution_count": null,
      "outputs": []
    },
    {
      "cell_type": "code",
      "metadata": {
        "id": "NFYkuolfwHFT"
      },
      "source": [
        ""
      ],
      "execution_count": null,
      "outputs": []
    }
  ]
}