{
  "nbformat": 4,
  "nbformat_minor": 0,
  "metadata": {
    "colab": {
      "name": "ArtsperDataset.ipynb",
      "provenance": [],
      "collapsed_sections": []
    },
    "kernelspec": {
      "name": "python3",
      "display_name": "Python 3"
    },
    "language_info": {
      "name": "python"
    }
  },
  "cells": [
    {
      "cell_type": "code",
      "metadata": {
        "id": "wYyX6hl0gbeC"
      },
      "source": [
        "import requests, re, time\n",
        "from bs4 import BeautifulSoup\n",
        "# for outputting to csv files\n",
        "import pandas as pd"
      ],
      "execution_count": 1,
      "outputs": []
    },
    {
      "cell_type": "code",
      "metadata": {
        "colab": {
          "base_uri": "https://localhost:8080/"
        },
        "id": "tSIWOGc7goeg",
        "outputId": "e16e203f-3814-4e61-abb6-69915120671c"
      },
      "source": [
        "# I manually changed pages to get all the data\n",
        "result = requests.get('https://www.artsper.com/ca/contemporary-artworks/painting?price=:20000')\n",
        "result.status_code"
      ],
      "execution_count": 5,
      "outputs": [
        {
          "output_type": "execute_result",
          "data": {
            "text/plain": [
              "200"
            ]
          },
          "metadata": {
            "tags": []
          },
          "execution_count": 5
        }
      ]
    },
    {
      "cell_type": "code",
      "metadata": {
        "id": "3JSmTUUKgvXD"
      },
      "source": [
        "src = result.content\n",
        "soup = BeautifulSoup(src, 'lxml')\n",
        "links = soup.find_all(\"img\")"
      ],
      "execution_count": null,
      "outputs": []
    },
    {
      "cell_type": "code",
      "metadata": {
        "colab": {
          "base_uri": "https://localhost:8080/"
        },
        "id": "08aOQWMoouMl",
        "outputId": "201bbcb7-ebc1-426b-c984-8196d7532fdd"
      },
      "source": [
        "count = 0\n",
        "index = 0\n",
        "img = []\n",
        "\n",
        "for i in links:\n",
        "  index += 1\n",
        "  # the first 14 images and the last one are not paintings for sale\n",
        "  if index >= 15 and index != 79:\n",
        "    img.append(i['data-src'])\n",
        "    count += 1\n",
        "print(count)\n",
        "img"
      ],
      "execution_count": 20,
      "outputs": [
        {
          "output_type": "stream",
          "text": [
            "64\n"
          ],
          "name": "stdout"
        },
        {
          "output_type": "execute_result",
          "data": {
            "text/plain": [
              "['https://media.artsper.com/artwork/1058814_1_grid.jpg',\n",
              " 'https://media.artsper.com/artwork/1057140_1_grid.jpg',\n",
              " 'https://media.artsper.com/artwork/1057866_1_grid.jpg',\n",
              " 'https://media.artsper.com/artwork/1062519_1_grid.jpg',\n",
              " 'https://media.artsper.com/artwork/1060317_1_grid.jpg',\n",
              " 'https://media.artsper.com/artwork/1060638_1_grid.jpg',\n",
              " 'https://media.artsper.com/artwork/1058610_1_grid.jpg',\n",
              " 'https://media.artsper.com/artwork/1059237_1_grid.jpg',\n",
              " 'https://media.artsper.com/artwork/1056144_1_grid.jpg',\n",
              " 'https://media.artsper.com/artwork/1066287_1_grid.jpg',\n",
              " 'https://media.artsper.com/artwork/1063167_1_grid.jpg',\n",
              " 'https://media.artsper.com/artwork/1060356_1_grid.jpg',\n",
              " 'https://media.artsper.com/artwork/1067964_1_grid.jpg',\n",
              " 'https://media.artsper.com/artwork/1067757_1_grid.jpg',\n",
              " 'https://media.artsper.com/artwork/1059309_1_grid.jpg',\n",
              " 'https://media.artsper.com/artwork/1067862_1_grid.jpg',\n",
              " 'https://media.artsper.com/artwork/1062195_1_grid.jpg',\n",
              " 'https://media.artsper.com/artwork/1053645_1_grid.jpg',\n",
              " 'https://media.artsper.com/artwork/1065210_1_grid.jpg',\n",
              " 'https://media.artsper.com/artwork/1061424_1_grid.jpg',\n",
              " 'https://media.artsper.com/artwork/1061478_1_grid.jpg',\n",
              " 'https://media.artsper.com/artwork/1059348_1_grid.jpg',\n",
              " 'https://media.artsper.com/artwork/1066857_1_grid.jpg',\n",
              " 'https://media.artsper.com/artwork/1063386_1_grid.jpg',\n",
              " 'https://media.artsper.com/artwork/1054689_1_grid.jpg',\n",
              " 'https://media.artsper.com/artwork/1048884_1_grid.jpg',\n",
              " 'https://media.artsper.com/artwork/1068672_1_grid.jpg',\n",
              " 'https://media.artsper.com/artwork/1065273_1_grid.jpg',\n",
              " 'https://media.artsper.com/artwork/1064202_1_grid.jpg',\n",
              " 'https://media.artsper.com/artwork/1060338_1_grid.jpg',\n",
              " 'https://media.artsper.com/artwork/1054494_1_grid.jpg',\n",
              " 'https://media.artsper.com/artwork/1055568_1_grid.jpg',\n",
              " 'https://media.artsper.com/artwork/1053711_1_grid.jpg',\n",
              " 'https://media.artsper.com/artwork/1059198_1_grid.jpg',\n",
              " 'https://media.artsper.com/artwork/1062876_1_grid.jpg',\n",
              " 'https://media.artsper.com/artwork/1057173_1_grid.jpg',\n",
              " 'https://media.artsper.com/artwork/1055793_1_grid.jpg',\n",
              " 'https://media.artsper.com/artwork/1062474_1_grid.jpg',\n",
              " 'https://media.artsper.com/artwork/1062264_1_grid.jpg',\n",
              " 'https://media.artsper.com/artwork/1065264_1_grid.jpg',\n",
              " 'https://media.artsper.com/artwork/1060458_1_grid.jpg',\n",
              " 'https://media.artsper.com/artwork/1057020_1_grid.jpg',\n",
              " 'https://media.artsper.com/artwork/1054410_1_grid.jpg',\n",
              " 'https://media.artsper.com/artwork/1068336_1_grid.jpg',\n",
              " 'https://media.artsper.com/artwork/1065540_1_grid.jpg',\n",
              " 'https://media.artsper.com/artwork/1067700_1_grid.jpg',\n",
              " 'https://media.artsper.com/artwork/1059219_1_grid.jpg',\n",
              " 'https://media.artsper.com/artwork/1058679_1_grid.jpg',\n",
              " 'https://media.artsper.com/artwork/1056351_1_grid.jpg',\n",
              " 'https://media.artsper.com/artwork/1056141_1_grid.jpg',\n",
              " 'https://media.artsper.com/artwork/1055682_1_grid.jpg',\n",
              " 'https://media.artsper.com/artwork/1056228_1_grid.jpg',\n",
              " 'https://media.artsper.com/artwork/1061580_1_grid.jpg',\n",
              " 'https://media.artsper.com/artwork/1060320_1_grid.jpg',\n",
              " 'https://media.artsper.com/artwork/1060743_1_grid.jpg',\n",
              " 'https://media.artsper.com/artwork/1060005_1_grid.jpg',\n",
              " 'https://media.artsper.com/artwork/1059192_1_grid.jpg',\n",
              " 'https://media.artsper.com/artwork/1061700_1_grid.jpg',\n",
              " 'https://media.artsper.com/artwork/1058352_1_grid.jpg',\n",
              " 'https://media.artsper.com/artwork/1056264_1_grid.jpg',\n",
              " 'https://media.artsper.com/artwork/1067553_1_grid.jpg',\n",
              " 'https://media.artsper.com/artwork/1056081_1_grid.jpg',\n",
              " 'https://media.artsper.com/artwork/1066731_1_grid.jpg',\n",
              " 'https://media.artsper.com/artwork/1056612_1_grid.jpg']"
            ]
          },
          "metadata": {
            "tags": []
          },
          "execution_count": 20
        }
      ]
    },
    {
      "cell_type": "code",
      "metadata": {
        "id": "rDCHbE8oBkIt",
        "colab": {
          "base_uri": "https://localhost:8080/"
        },
        "outputId": "3bd65de7-b387-47b0-c5b5-6613ddde57a6"
      },
      "source": [
        "p = soup.find_all(class_='media-price price')\n",
        "print(len(p))\n",
        "p"
      ],
      "execution_count": 41,
      "outputs": [
        {
          "output_type": "stream",
          "text": [
            "66\n"
          ],
          "name": "stdout"
        },
        {
          "output_type": "execute_result",
          "data": {
            "text/plain": [
              "[<p class=\"media-price price\">$2,954</p>,\n",
              " <p class=\"media-price price\">$578</p>,\n",
              " <p class=\"media-price price\">$5,293</p>,\n",
              " <p class=\"media-price price\">$2,092</p>,\n",
              " <p class=\"media-price price\">$3,500</p>,\n",
              " <p class=\"media-price price\">$62</p>,\n",
              " <p class=\"media-price price\">$1,169</p>,\n",
              " <p class=\"media-price price\">$3,446</p>,\n",
              " <p class=\"media-price price\">$9,724</p>,\n",
              " <p class=\"media-price price\">$308</p>,\n",
              " <p class=\"media-price price\">$2,080</p>,\n",
              " <p class=\"media-price price\">$9,354</p>,\n",
              " <p class=\"media-price price\">$1,846</p>,\n",
              " <p class=\"media-price price\">$3,262</p>,\n",
              " <p class=\"media-price price\">$651</p>,\n",
              " <p class=\"media-price price\">$1,046</p>,\n",
              " <p class=\"media-price price\">$3,569</p>,\n",
              " <p class=\"media-price price\">$295</p>,\n",
              " <p class=\"media-price price\">$2,277</p>,\n",
              " <p class=\"media-price price\">$2,216</p>,\n",
              " <p class=\"media-price price\">$5,293</p>,\n",
              " <p class=\"media-price price\">$849</p>,\n",
              " <p class=\"media-price price\">$1,046</p>,\n",
              " <p class=\"media-price price\">$492</p>,\n",
              " <p class=\"media-price price\">$1,095</p>,\n",
              " <p class=\"media-price price\">$615</p>,\n",
              " <p class=\"media-price price\">$480</p>,\n",
              " <p class=\"media-price price\">$3,446</p>,\n",
              " <p class=\"media-price price\">$1,354</p>,\n",
              " <p class=\"media-price price\">$431</p>,\n",
              " <p class=\"media-price price\">$3,077</p>,\n",
              " <p class=\"media-price price\">$3,693</p>,\n",
              " <p class=\"media-price price\">$8,616</p>,\n",
              " <p class=\"media-price price\">$2,462</p>,\n",
              " <p class=\"media-price price\">$1,292</p>,\n",
              " <p class=\"media-price price\">$3,077</p>,\n",
              " <p class=\"media-price price\">$2,339</p>,\n",
              " <p class=\"media-price price\">$985</p>,\n",
              " <p class=\"media-price price\">$3,446</p>,\n",
              " <p class=\"media-price price\">$3,939</p>,\n",
              " <p class=\"media-price price\">\n",
              "         15,000 - $ 25,000\n",
              "     </p>,\n",
              " <p class=\"media-price price\">$800</p>,\n",
              " <p class=\"media-price price\">$862</p>,\n",
              " <p class=\"media-price price\">$1,292</p>,\n",
              " <p class=\"media-price price\">$1,083</p>,\n",
              " <p class=\"media-price price\">$3,077</p>,\n",
              " <p class=\"media-price price\">$19,950</p>,\n",
              " <p class=\"media-price price\">$2,154</p>,\n",
              " <p class=\"media-price price\">$330</p>,\n",
              " <p class=\"media-price price\">$1,969</p>,\n",
              " <p class=\"media-price price\">$1,231</p>,\n",
              " <p class=\"media-price price\">$2,831</p>,\n",
              " <p class=\"media-price price\">$431</p>,\n",
              " <p class=\"media-price price\">$9,419</p>,\n",
              " <p class=\"media-price price\">$492</p>,\n",
              " <p class=\"media-price price\">$3,768</p>,\n",
              " <p class=\"media-price price\">$271</p>,\n",
              " <p class=\"media-price price\">\n",
              "         &lt; $ 2,500\n",
              "     </p>,\n",
              " <p class=\"media-price price\">$2,979</p>,\n",
              " <p class=\"media-price price\">$341</p>,\n",
              " <p class=\"media-price price\">$418</p>,\n",
              " <p class=\"media-price price\">$1,174</p>,\n",
              " <p class=\"media-price price\">$7,535</p>,\n",
              " <p class=\"media-price price\">$2,277</p>,\n",
              " <p class=\"media-price price\">$3,077</p>,\n",
              " <p class=\"media-price price\">$2,031</p>]"
            ]
          },
          "metadata": {
            "tags": []
          },
          "execution_count": 41
        }
      ]
    },
    {
      "cell_type": "code",
      "metadata": {
        "colab": {
          "base_uri": "https://localhost:8080/"
        },
        "id": "LMnhUb-sHZep",
        "outputId": "7304ebb5-4e18-429e-bea4-cda020ecb1ac"
      },
      "source": [
        "price = []\n",
        "\n",
        "for i in p:\n",
        "  num = re.findall(\"[0-9]+.[0-9]+\", str(i))\n",
        "  if str(num) != \"\" and len(num) == 1:\n",
        "    price.append(num[0])\n",
        "print(len(price))\n",
        "price"
      ],
      "execution_count": 61,
      "outputs": [
        {
          "output_type": "stream",
          "text": [
            "64\n"
          ],
          "name": "stdout"
        },
        {
          "output_type": "execute_result",
          "data": {
            "text/plain": [
              "['2,954',\n",
              " '578',\n",
              " '5,293',\n",
              " '2,092',\n",
              " '3,500',\n",
              " '1,169',\n",
              " '3,446',\n",
              " '9,724',\n",
              " '308',\n",
              " '2,080',\n",
              " '9,354',\n",
              " '1,846',\n",
              " '3,262',\n",
              " '651',\n",
              " '1,046',\n",
              " '3,569',\n",
              " '295',\n",
              " '2,277',\n",
              " '2,216',\n",
              " '5,293',\n",
              " '849',\n",
              " '1,046',\n",
              " '492',\n",
              " '1,095',\n",
              " '615',\n",
              " '480',\n",
              " '3,446',\n",
              " '1,354',\n",
              " '431',\n",
              " '3,077',\n",
              " '3,693',\n",
              " '8,616',\n",
              " '2,462',\n",
              " '1,292',\n",
              " '3,077',\n",
              " '2,339',\n",
              " '985',\n",
              " '3,446',\n",
              " '3,939',\n",
              " '800',\n",
              " '862',\n",
              " '1,292',\n",
              " '1,083',\n",
              " '3,077',\n",
              " '19,950',\n",
              " '2,154',\n",
              " '330',\n",
              " '1,969',\n",
              " '1,231',\n",
              " '2,831',\n",
              " '431',\n",
              " '9,419',\n",
              " '492',\n",
              " '3,768',\n",
              " '271',\n",
              " '2,500',\n",
              " '2,979',\n",
              " '341',\n",
              " '418',\n",
              " '1,174',\n",
              " '7,535',\n",
              " '2,277',\n",
              " '3,077',\n",
              " '2,031']"
            ]
          },
          "metadata": {
            "tags": []
          },
          "execution_count": 61
        }
      ]
    },
    {
      "cell_type": "code",
      "metadata": {
        "colab": {
          "base_uri": "https://localhost:8080/"
        },
        "id": "nf4LDeB6JZXJ",
        "outputId": "1d08d953-b113-44df-b9bf-114564a22d94"
      },
      "source": [
        "from google.colab import drive\n",
        "drive.mount('/content/drive')"
      ],
      "execution_count": 37,
      "outputs": [
        {
          "output_type": "stream",
          "text": [
            "Mounted at /content/drive\n"
          ],
          "name": "stdout"
        }
      ]
    },
    {
      "cell_type": "code",
      "metadata": {
        "id": "7SGWGIQsJJ2X"
      },
      "source": [
        "df = pd.DataFrame()\n",
        "df.insert(loc=0, column='price(USD)', value=price)\n",
        "df.insert(loc=0, column='image', value=img)\n",
        "\n",
        "df.head()\n",
        "df.to_csv('/content/drive/My Drive/291 project data/data.csv')"
      ],
      "execution_count": 58,
      "outputs": []
    }
  ]
}